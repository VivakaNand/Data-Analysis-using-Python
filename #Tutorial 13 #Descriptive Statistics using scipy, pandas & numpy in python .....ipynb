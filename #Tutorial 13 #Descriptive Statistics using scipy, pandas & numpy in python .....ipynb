{
 "cells": [
  {
   "cell_type": "code",
   "execution_count": 21,
   "metadata": {},
   "outputs": [
    {
     "data": {
      "text/html": [
       "<div>\n",
       "<style scoped>\n",
       "    .dataframe tbody tr th:only-of-type {\n",
       "        vertical-align: middle;\n",
       "    }\n",
       "\n",
       "    .dataframe tbody tr th {\n",
       "        vertical-align: top;\n",
       "    }\n",
       "\n",
       "    .dataframe thead th {\n",
       "        text-align: right;\n",
       "    }\n",
       "</style>\n",
       "<table border=\"1\" class=\"dataframe\">\n",
       "  <thead>\n",
       "    <tr style=\"text-align: right;\">\n",
       "      <th></th>\n",
       "      <th>id</th>\n",
       "      <th>Age</th>\n",
       "      <th>Religion</th>\n",
       "      <th>Gender</th>\n",
       "      <th>MaterialStatus</th>\n",
       "      <th>Nationality</th>\n",
       "      <th>identification</th>\n",
       "      <th>Domicile</th>\n",
       "      <th>Category</th>\n",
       "      <th>hometown</th>\n",
       "      <th>...</th>\n",
       "      <th>satisfywithclassrooms</th>\n",
       "      <th>satisfywithfood</th>\n",
       "      <th>member</th>\n",
       "      <th>political</th>\n",
       "      <th>helpfromseniors</th>\n",
       "      <th>accesstocomputer</th>\n",
       "      <th>extracurricularactivity</th>\n",
       "      <th>affect</th>\n",
       "      <th>job</th>\n",
       "      <th>affectuniversitywork</th>\n",
       "    </tr>\n",
       "  </thead>\n",
       "  <tbody>\n",
       "    <tr>\n",
       "      <th>0</th>\n",
       "      <td>1</td>\n",
       "      <td>21 to 25</td>\n",
       "      <td>Hindu</td>\n",
       "      <td>Male</td>\n",
       "      <td>Unmarried</td>\n",
       "      <td>Pakistan</td>\n",
       "      <td>Sindhi</td>\n",
       "      <td>Umarkot</td>\n",
       "      <td>Rural</td>\n",
       "      <td>Umarkot</td>\n",
       "      <td>...</td>\n",
       "      <td>No</td>\n",
       "      <td>No</td>\n",
       "      <td>No</td>\n",
       "      <td>No</td>\n",
       "      <td>Yes</td>\n",
       "      <td>Yes</td>\n",
       "      <td>No</td>\n",
       "      <td>Yes</td>\n",
       "      <td>No</td>\n",
       "      <td>Yes</td>\n",
       "    </tr>\n",
       "    <tr>\n",
       "      <th>1</th>\n",
       "      <td>2</td>\n",
       "      <td>21 to 25</td>\n",
       "      <td>Islam</td>\n",
       "      <td>Male</td>\n",
       "      <td>Unmarried</td>\n",
       "      <td>Pakistan</td>\n",
       "      <td>Urdu Speaking</td>\n",
       "      <td>Karachi</td>\n",
       "      <td>Urban</td>\n",
       "      <td>Karachi</td>\n",
       "      <td>...</td>\n",
       "      <td>Yes</td>\n",
       "      <td>Yes</td>\n",
       "      <td>Yes</td>\n",
       "      <td>No</td>\n",
       "      <td>Yes</td>\n",
       "      <td>Yes</td>\n",
       "      <td>Yes</td>\n",
       "      <td>Yes</td>\n",
       "      <td>No</td>\n",
       "      <td>Yes</td>\n",
       "    </tr>\n",
       "    <tr>\n",
       "      <th>2</th>\n",
       "      <td>3</td>\n",
       "      <td>21 to 25</td>\n",
       "      <td>Islam</td>\n",
       "      <td>Male</td>\n",
       "      <td>Unmarried</td>\n",
       "      <td>Pakistan</td>\n",
       "      <td>Urdu Speaking</td>\n",
       "      <td>Karachi</td>\n",
       "      <td>Urban</td>\n",
       "      <td>Korangi</td>\n",
       "      <td>...</td>\n",
       "      <td>Yes</td>\n",
       "      <td>Yes</td>\n",
       "      <td>Yes</td>\n",
       "      <td>No</td>\n",
       "      <td>No</td>\n",
       "      <td>Yes</td>\n",
       "      <td>No</td>\n",
       "      <td>Yes</td>\n",
       "      <td>No</td>\n",
       "      <td>No</td>\n",
       "    </tr>\n",
       "    <tr>\n",
       "      <th>3</th>\n",
       "      <td>4</td>\n",
       "      <td>21 to 25</td>\n",
       "      <td>Islam</td>\n",
       "      <td>Male</td>\n",
       "      <td>Unmarried</td>\n",
       "      <td>Pakistan</td>\n",
       "      <td>Pakistani</td>\n",
       "      <td>Karachi</td>\n",
       "      <td>Rural</td>\n",
       "      <td>Karachi</td>\n",
       "      <td>...</td>\n",
       "      <td>Yes</td>\n",
       "      <td>No</td>\n",
       "      <td>No</td>\n",
       "      <td>No</td>\n",
       "      <td>No</td>\n",
       "      <td>Yes</td>\n",
       "      <td>Yes</td>\n",
       "      <td>No</td>\n",
       "      <td>No</td>\n",
       "      <td>No</td>\n",
       "    </tr>\n",
       "    <tr>\n",
       "      <th>4</th>\n",
       "      <td>5</td>\n",
       "      <td>21 to 25</td>\n",
       "      <td>Islam</td>\n",
       "      <td>Male</td>\n",
       "      <td>Unmarried</td>\n",
       "      <td>Pakistan</td>\n",
       "      <td>Urdu Speaking</td>\n",
       "      <td>Hyderabad</td>\n",
       "      <td>Urban</td>\n",
       "      <td>Karachi</td>\n",
       "      <td>...</td>\n",
       "      <td>Yes</td>\n",
       "      <td>No</td>\n",
       "      <td>No</td>\n",
       "      <td>No</td>\n",
       "      <td>No</td>\n",
       "      <td>No</td>\n",
       "      <td>No</td>\n",
       "      <td>No</td>\n",
       "      <td>No</td>\n",
       "      <td>No</td>\n",
       "    </tr>\n",
       "  </tbody>\n",
       "</table>\n",
       "<p>5 rows × 48 columns</p>\n",
       "</div>"
      ],
      "text/plain": [
       "   id       Age Religion Gender MaterialStatus Nationality identification  \\\n",
       "0   1  21 to 25    Hindu   Male      Unmarried    Pakistan         Sindhi   \n",
       "1   2  21 to 25    Islam   Male      Unmarried    Pakistan  Urdu Speaking   \n",
       "2   3  21 to 25    Islam   Male      Unmarried    Pakistan  Urdu Speaking   \n",
       "3   4  21 to 25    Islam   Male      Unmarried    Pakistan      Pakistani   \n",
       "4   5  21 to 25    Islam   Male      Unmarried    Pakistan  Urdu Speaking   \n",
       "\n",
       "    Domicile Category hometown         ...          satisfywithclassrooms  \\\n",
       "0    Umarkot    Rural  Umarkot         ...                             No   \n",
       "1    Karachi    Urban  Karachi         ...                            Yes   \n",
       "2    Karachi    Urban  Korangi         ...                            Yes   \n",
       "3    Karachi    Rural  Karachi         ...                            Yes   \n",
       "4  Hyderabad    Urban  Karachi         ...                            Yes   \n",
       "\n",
       "  satisfywithfood member political helpfromseniors accesstocomputer  \\\n",
       "0              No     No        No             Yes              Yes   \n",
       "1             Yes    Yes        No             Yes              Yes   \n",
       "2             Yes    Yes        No              No              Yes   \n",
       "3              No     No        No              No              Yes   \n",
       "4              No     No        No              No               No   \n",
       "\n",
       "  extracurricularactivity affect job affectuniversitywork  \n",
       "0                      No    Yes  No                  Yes  \n",
       "1                     Yes    Yes  No                  Yes  \n",
       "2                      No    Yes  No                   No  \n",
       "3                     Yes     No  No                   No  \n",
       "4                      No     No  No                   No  \n",
       "\n",
       "[5 rows x 48 columns]"
      ]
     },
     "execution_count": 21,
     "metadata": {},
     "output_type": "execute_result"
    }
   ],
   "source": [
    "import numpy as np\n",
    "import pandas as pd\n",
    "import matplotlib.pyplot as plt\n",
    "from pandas import Series, DataFrame\n",
    "\n",
    "import scipy\n",
    "from scipy import stats\n",
    "\n",
    "address='G:/Python Tutorial/csv files/data/FYP_data1.csv'\n",
    "ie=pd.read_csv(address)\n",
    "ie.columns=['id','Age','Religion','Gender','MaterialStatus','Nationality','identification','Domicile','Category','hometown','school','SSC%','HSC%','classification','University','reachUniversity','Currently','Department','Year','GPA','attendance','resource','place','self-study','time','timesleep','Wheredoyoulive','foodfrom','expenses','askaboutstudy','satisfiedwithstudy','achievinggoal','supportsfromuniversity','uselibrary','satisfywithfacilities','satisfywithteachers','satisfied','satisfywithlaboratories','satisfywithclassrooms','satisfywithfood','member','political','helpfromseniors','accesstocomputer','extracurricularactivity','affect','job','affectuniversitywork']\n",
    "ie.head()\n"
   ]
  },
  {
   "cell_type": "code",
   "execution_count": 6,
   "metadata": {},
   "outputs": [
    {
     "data": {
      "text/plain": [
       "id                         122\n",
       "Age                        122\n",
       "Religion                   122\n",
       "Gender                     122\n",
       "MaterialStatus             122\n",
       "Nationality                122\n",
       "identification             122\n",
       "Domicile                   122\n",
       "Category                   122\n",
       "hometown                   122\n",
       "school                     122\n",
       "SSC%                       122\n",
       "HSC%                       122\n",
       "classification             122\n",
       "University                 122\n",
       "reachUniversity            122\n",
       "Currently                  122\n",
       "Department                 122\n",
       "Year                       122\n",
       "GPA                        118\n",
       "attendance                 122\n",
       "resource                   122\n",
       "place                      122\n",
       "self-study                 122\n",
       "time                       122\n",
       "timesleep                  121\n",
       "Wheredoyoulive             122\n",
       "foodfrom                   122\n",
       "expenses                   122\n",
       "askaboutstudy              122\n",
       "satisfiedwithstudy         122\n",
       "achievinggoal              121\n",
       "supportsfromuniversity     121\n",
       "uselibrary                 122\n",
       "satisfywithfacilities      122\n",
       "satisfywithteachers        122\n",
       "satisfied                  122\n",
       "satisfywithlaboratories    122\n",
       "satisfywithclassrooms      121\n",
       "satisfywithfood            122\n",
       "member                     122\n",
       "political                  120\n",
       "helpfromseniors            122\n",
       "accesstocomputer           122\n",
       "extracurricularactivity    122\n",
       "affect                     122\n",
       "job                        121\n",
       "affectuniversitywork       121\n",
       "dtype: int64"
      ]
     },
     "execution_count": 6,
     "metadata": {},
     "output_type": "execute_result"
    }
   ],
   "source": [
    "ie.count()"
   ]
  },
  {
   "cell_type": "code",
   "execution_count": 9,
   "metadata": {},
   "outputs": [
    {
     "data": {
      "text/plain": [
       "0        1\n",
       "1        2\n",
       "2        3\n",
       "3        4\n",
       "4        5\n",
       "5        6\n",
       "6        7\n",
       "7        8\n",
       "8        9\n",
       "9       10\n",
       "10      11\n",
       "11      12\n",
       "12      13\n",
       "13      14\n",
       "14      15\n",
       "15      16\n",
       "16      17\n",
       "17      18\n",
       "18      19\n",
       "19      20\n",
       "20      21\n",
       "21      22\n",
       "22      23\n",
       "23      24\n",
       "24      25\n",
       "25      26\n",
       "26      27\n",
       "27      28\n",
       "28      29\n",
       "29      30\n",
       "      ... \n",
       "92      93\n",
       "93      94\n",
       "94      95\n",
       "95      96\n",
       "96      97\n",
       "97      98\n",
       "98      99\n",
       "99     100\n",
       "100    101\n",
       "101    102\n",
       "102    103\n",
       "103    104\n",
       "104    105\n",
       "105    106\n",
       "106    107\n",
       "107    108\n",
       "108    109\n",
       "109    110\n",
       "110    111\n",
       "111    112\n",
       "112    113\n",
       "113    114\n",
       "114    115\n",
       "115    116\n",
       "116    117\n",
       "117    118\n",
       "118    119\n",
       "119    120\n",
       "120    121\n",
       "121    122\n",
       "Length: 122, dtype: int64"
      ]
     },
     "execution_count": 9,
     "metadata": {},
     "output_type": "execute_result"
    }
   ],
   "source": [
    "ie.sum(axis=1)"
   ]
  },
  {
   "cell_type": "code",
   "execution_count": 10,
   "metadata": {},
   "outputs": [
    {
     "data": {
      "text/plain": [
       "id                                                   122\n",
       "Age                                             Below 20\n",
       "Religion                                          Islam \n",
       "Gender                                              Male\n",
       "MaterialStatus                                 Unmarried\n",
       "Nationality                                     Pakistan\n",
       "identification                             Urdu Speaking\n",
       "Domicile                                          Vehari\n",
       "Category                                           Urban\n",
       "hometown                                          Vehari\n",
       "school                                            Vehari\n",
       "SSC%                                                   B\n",
       "HSC%                                                   C\n",
       "classification                           Semi-Government\n",
       "University                 University of Sindh, Jamshoro\n",
       "reachUniversity                             3 to 4 hours\n",
       "Currently                                            PhD\n",
       "Department                            Telecommunication \n",
       "Year                                           Graduated\n",
       "attendance                                       81-100%\n",
       "resource                                  Research Paper\n",
       "place                                     Library & Home\n",
       "self-study                            More than 15 hours\n",
       "time                                    Less-than 1 hour\n",
       "Wheredoyoulive                 Private (Home, Flat, etc)\n",
       "foodfrom                             Family cooks for me\n",
       "expenses                          Self (job, saving etc)\n",
       "askaboutstudy                                      Never\n",
       "satisfiedwithstudy                                   Yes\n",
       "uselibrary                                           Yes\n",
       "satisfywithfacilities                                Yes\n",
       "satisfywithteachers                                  Yes\n",
       "satisfied                                            Yes\n",
       "satisfywithlaboratories                              Yes\n",
       "satisfywithfood                                      Yes\n",
       "member                                               Yes\n",
       "helpfromseniors                                      Yes\n",
       "accesstocomputer                                     Yes\n",
       "extracurricularactivity                              Yes\n",
       "affect                                               Yes\n",
       "dtype: object"
      ]
     },
     "execution_count": 10,
     "metadata": {},
     "output_type": "execute_result"
    }
   ],
   "source": [
    "ie.max()"
   ]
  },
  {
   "cell_type": "code",
   "execution_count": 15,
   "metadata": {},
   "outputs": [
    {
     "ename": "TypeError",
     "evalue": "reduction operation 'argmax' not allowed for this dtype",
     "output_type": "error",
     "traceback": [
      "\u001b[1;31m---------------------------------------------------------------------------\u001b[0m",
      "\u001b[1;31mTypeError\u001b[0m                                 Traceback (most recent call last)",
      "\u001b[1;32m<ipython-input-15-18c531da5f5d>\u001b[0m in \u001b[0;36m<module>\u001b[1;34m()\u001b[0m\n\u001b[0;32m      1\u001b[0m \u001b[0mGPA\u001b[0m\u001b[1;33m=\u001b[0m\u001b[0mie\u001b[0m\u001b[1;33m.\u001b[0m\u001b[0mGPA\u001b[0m\u001b[1;33m\u001b[0m\u001b[0m\n\u001b[1;32m----> 2\u001b[1;33m \u001b[0mGPA\u001b[0m\u001b[1;33m.\u001b[0m\u001b[0midxmax\u001b[0m\u001b[1;33m(\u001b[0m\u001b[1;33m)\u001b[0m\u001b[1;33m\u001b[0m\u001b[0m\n\u001b[0m",
      "\u001b[1;32m~\\AppData\\Local\\Continuum\\anaconda3\\lib\\site-packages\\pandas\\core\\series.py\u001b[0m in \u001b[0;36midxmax\u001b[1;34m(self, axis, skipna, *args, **kwargs)\u001b[0m\n\u001b[0;32m   1367\u001b[0m         \"\"\"\n\u001b[0;32m   1368\u001b[0m         \u001b[0mskipna\u001b[0m \u001b[1;33m=\u001b[0m \u001b[0mnv\u001b[0m\u001b[1;33m.\u001b[0m\u001b[0mvalidate_argmax_with_skipna\u001b[0m\u001b[1;33m(\u001b[0m\u001b[0mskipna\u001b[0m\u001b[1;33m,\u001b[0m \u001b[0margs\u001b[0m\u001b[1;33m,\u001b[0m \u001b[0mkwargs\u001b[0m\u001b[1;33m)\u001b[0m\u001b[1;33m\u001b[0m\u001b[0m\n\u001b[1;32m-> 1369\u001b[1;33m         \u001b[0mi\u001b[0m \u001b[1;33m=\u001b[0m \u001b[0mnanops\u001b[0m\u001b[1;33m.\u001b[0m\u001b[0mnanargmax\u001b[0m\u001b[1;33m(\u001b[0m\u001b[0m_values_from_object\u001b[0m\u001b[1;33m(\u001b[0m\u001b[0mself\u001b[0m\u001b[1;33m)\u001b[0m\u001b[1;33m,\u001b[0m \u001b[0mskipna\u001b[0m\u001b[1;33m=\u001b[0m\u001b[0mskipna\u001b[0m\u001b[1;33m)\u001b[0m\u001b[1;33m\u001b[0m\u001b[0m\n\u001b[0m\u001b[0;32m   1370\u001b[0m         \u001b[1;32mif\u001b[0m \u001b[0mi\u001b[0m \u001b[1;33m==\u001b[0m \u001b[1;33m-\u001b[0m\u001b[1;36m1\u001b[0m\u001b[1;33m:\u001b[0m\u001b[1;33m\u001b[0m\u001b[0m\n\u001b[0;32m   1371\u001b[0m             \u001b[1;32mreturn\u001b[0m \u001b[0mnp\u001b[0m\u001b[1;33m.\u001b[0m\u001b[0mnan\u001b[0m\u001b[1;33m\u001b[0m\u001b[0m\n",
      "\u001b[1;32m~\\AppData\\Local\\Continuum\\anaconda3\\lib\\site-packages\\pandas\\core\\nanops.py\u001b[0m in \u001b[0;36m_f\u001b[1;34m(*args, **kwargs)\u001b[0m\n\u001b[0;32m     72\u001b[0m             \u001b[1;32mif\u001b[0m \u001b[0many\u001b[0m\u001b[1;33m(\u001b[0m\u001b[0mself\u001b[0m\u001b[1;33m.\u001b[0m\u001b[0mcheck\u001b[0m\u001b[1;33m(\u001b[0m\u001b[0mobj\u001b[0m\u001b[1;33m)\u001b[0m \u001b[1;32mfor\u001b[0m \u001b[0mobj\u001b[0m \u001b[1;32min\u001b[0m \u001b[0mobj_iter\u001b[0m\u001b[1;33m)\u001b[0m\u001b[1;33m:\u001b[0m\u001b[1;33m\u001b[0m\u001b[0m\n\u001b[0;32m     73\u001b[0m                 \u001b[0mmsg\u001b[0m \u001b[1;33m=\u001b[0m \u001b[1;34m'reduction operation {name!r} not allowed for this dtype'\u001b[0m\u001b[1;33m\u001b[0m\u001b[0m\n\u001b[1;32m---> 74\u001b[1;33m                 \u001b[1;32mraise\u001b[0m \u001b[0mTypeError\u001b[0m\u001b[1;33m(\u001b[0m\u001b[0mmsg\u001b[0m\u001b[1;33m.\u001b[0m\u001b[0mformat\u001b[0m\u001b[1;33m(\u001b[0m\u001b[0mname\u001b[0m\u001b[1;33m=\u001b[0m\u001b[0mf\u001b[0m\u001b[1;33m.\u001b[0m\u001b[0m__name__\u001b[0m\u001b[1;33m.\u001b[0m\u001b[0mreplace\u001b[0m\u001b[1;33m(\u001b[0m\u001b[1;34m'nan'\u001b[0m\u001b[1;33m,\u001b[0m \u001b[1;34m''\u001b[0m\u001b[1;33m)\u001b[0m\u001b[1;33m)\u001b[0m\u001b[1;33m)\u001b[0m\u001b[1;33m\u001b[0m\u001b[0m\n\u001b[0m\u001b[0;32m     75\u001b[0m             \u001b[1;32mtry\u001b[0m\u001b[1;33m:\u001b[0m\u001b[1;33m\u001b[0m\u001b[0m\n\u001b[0;32m     76\u001b[0m                 \u001b[1;32mwith\u001b[0m \u001b[0mnp\u001b[0m\u001b[1;33m.\u001b[0m\u001b[0merrstate\u001b[0m\u001b[1;33m(\u001b[0m\u001b[0minvalid\u001b[0m\u001b[1;33m=\u001b[0m\u001b[1;34m'ignore'\u001b[0m\u001b[1;33m)\u001b[0m\u001b[1;33m:\u001b[0m\u001b[1;33m\u001b[0m\u001b[0m\n",
      "\u001b[1;31mTypeError\u001b[0m: reduction operation 'argmax' not allowed for this dtype"
     ]
    }
   ],
   "source": [
    "GPA=ie.GPA\n",
    "GPA.idxmax()\n"
   ]
  },
  {
   "cell_type": "code",
   "execution_count": 24,
   "metadata": {},
   "outputs": [
    {
     "data": {
      "text/plain": [
       "3.5 to 3.0       60\n",
       "4.0 to 3.6       37\n",
       "2.9 to 2.5       14\n",
       "Less than 2.5     7\n",
       "Name: GPA, dtype: int64"
      ]
     },
     "execution_count": 24,
     "metadata": {},
     "output_type": "execute_result"
    }
   ],
   "source": [
    "GPA=ie.GPA\n",
    "GPA.value_counts()\n"
   ]
  },
  {
   "cell_type": "code",
   "execution_count": 25,
   "metadata": {},
   "outputs": [
    {
     "data": {
      "text/plain": [
       "<matplotlib.axes._subplots.AxesSubplot at 0x1f2c4b2f828>"
      ]
     },
     "execution_count": 25,
     "metadata": {},
     "output_type": "execute_result"
    },
    {
     "data": {
      "image/png": "[encoded data removed]",
      "text/plain": [
       "<matplotlib.figure.Figure at 0x1f2c49175c0>"
      ]
     },
     "metadata": {},
     "output_type": "display_data"
    }
   ],
   "source": [
    "GPA=ie.GPA\n",
    "GPA.value_counts().plot(kind='bar')"
   ]
  },
  {
   "cell_type": "code",
   "execution_count": 28,
   "metadata": {},
   "outputs": [
    {
     "name": "stdout",
     "output_type": "stream",
     "text": [
      "Government         0.622951\n",
      "Private            0.270492\n",
      "Semi-Government    0.106557\n",
      "Name: classification, dtype: float64\n"
     ]
    }
   ],
   "source": [
    "classification=ie.classification\n",
    "x=classification.value_counts(1,'GPA')\n",
    "print(x)\n",
    "\n"
   ]
  },
  {
   "cell_type": "code",
   "execution_count": 36,
   "metadata": {},
   "outputs": [
    {
     "name": "stdout",
     "output_type": "stream",
     "text": [
      "Government         0.622951\n",
      "Private            0.270492\n",
      "Semi-Government    0.106557\n",
      "Name: classification, dtype: float64\n"
     ]
    },
    {
     "data": {
      "text/plain": [
       "[<matplotlib.lines.Line2D at 0x1f2c4e8a588>]"
      ]
     },
     "execution_count": 36,
     "metadata": {},
     "output_type": "execute_result"
    },
    {
     "data": {
      "image/png": "[encoded data removed]",
      "text/plain": [
       "<matplotlib.figure.Figure at 0x1f2c4e71550>"
      ]
     },
     "metadata": {},
     "output_type": "display_data"
    }
   ],
   "source": [
    "classification=ie.classification\n",
    "x=classification.value_counts(1,'GPA')\n",
    "print(x)\n",
    "plt.plot(x)"
   ]
  },
  {
   "cell_type": "code",
   "execution_count": 37,
   "metadata": {},
   "outputs": [
    {
     "data": {
      "text/html": [
       "<div>\n",
       "<style scoped>\n",
       "    .dataframe tbody tr th:only-of-type {\n",
       "        vertical-align: middle;\n",
       "    }\n",
       "\n",
       "    .dataframe tbody tr th {\n",
       "        vertical-align: top;\n",
       "    }\n",
       "\n",
       "    .dataframe thead th {\n",
       "        text-align: right;\n",
       "    }\n",
       "</style>\n",
       "<table border=\"1\" class=\"dataframe\">\n",
       "  <thead>\n",
       "    <tr style=\"text-align: right;\">\n",
       "      <th></th>\n",
       "      <th>id</th>\n",
       "    </tr>\n",
       "  </thead>\n",
       "  <tbody>\n",
       "    <tr>\n",
       "      <th>count</th>\n",
       "      <td>122.000000</td>\n",
       "    </tr>\n",
       "    <tr>\n",
       "      <th>mean</th>\n",
       "      <td>61.500000</td>\n",
       "    </tr>\n",
       "    <tr>\n",
       "      <th>std</th>\n",
       "      <td>35.362409</td>\n",
       "    </tr>\n",
       "    <tr>\n",
       "      <th>min</th>\n",
       "      <td>1.000000</td>\n",
       "    </tr>\n",
       "    <tr>\n",
       "      <th>25%</th>\n",
       "      <td>31.250000</td>\n",
       "    </tr>\n",
       "    <tr>\n",
       "      <th>50%</th>\n",
       "      <td>61.500000</td>\n",
       "    </tr>\n",
       "    <tr>\n",
       "      <th>75%</th>\n",
       "      <td>91.750000</td>\n",
       "    </tr>\n",
       "    <tr>\n",
       "      <th>max</th>\n",
       "      <td>122.000000</td>\n",
       "    </tr>\n",
       "  </tbody>\n",
       "</table>\n",
       "</div>"
      ],
      "text/plain": [
       "               id\n",
       "count  122.000000\n",
       "mean    61.500000\n",
       "std     35.362409\n",
       "min      1.000000\n",
       "25%     31.250000\n",
       "50%     61.500000\n",
       "75%     91.750000\n",
       "max    122.000000"
      ]
     },
     "execution_count": 37,
     "metadata": {},
     "output_type": "execute_result"
    }
   ],
   "source": [
    "ie.describe()"
   ]
  },
  {
   "cell_type": "code",
   "execution_count": null,
   "metadata": {},
   "outputs": [],
   "source": []
  }
 ],
 "metadata": {
  "kernelspec": {
   "display_name": "Python 3",
   "language": "python",
   "name": "python3"
  },
  "language_info": {
   "codemirror_mode": {
    "name": "ipython",
    "version": 3
   },
   "file_extension": ".py",
   "mimetype": "text/x-python",
   "name": "python",
   "nbconvert_exporter": "python",
   "pygments_lexer": "ipython3",
   "version": "3.6.4"
  }
 },
 "nbformat": 4,
 "nbformat_minor": 2
}
